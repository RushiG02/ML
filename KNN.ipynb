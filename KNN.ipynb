{
  "nbformat": 4,
  "nbformat_minor": 0,
  "metadata": {
    "kernelspec": {
      "display_name": "Python 3",
      "language": "python",
      "name": "python3"
    },
    "language_info": {
      "codemirror_mode": {
        "name": "ipython",
        "version": 3
      },
      "file_extension": ".py",
      "mimetype": "text/x-python",
      "name": "python",
      "nbconvert_exporter": "python",
      "pygments_lexer": "ipython3",
      "version": "3.7.3"
    },
    "colab": {
      "name": "KNN (1).ipynb",
      "provenance": [],
      "include_colab_link": true
    }
  },
  "cells": [
    {
      "cell_type": "markdown",
      "metadata": {
        "id": "view-in-github",
        "colab_type": "text"
      },
      "source": [
        "<a href=\"https://colab.research.google.com/github/RushiG02/ML/blob/master/KNN.ipynb\" target=\"_parent\"><img src=\"https://colab.research.google.com/assets/colab-badge.svg\" alt=\"Open In Colab\"/></a>"
      ]
    },
    {
      "cell_type": "code",
      "metadata": {
        "id": "91DrTpmEMqoQ",
        "colab_type": "code",
        "colab": {}
      },
      "source": [
        "import os\n",
        "import numpy as np\n",
        "import matplotlib.pyplot as plt\n"
      ],
      "execution_count": 0,
      "outputs": []
    },
    {
      "cell_type": "code",
      "metadata": {
        "id": "Jz6aixmuMqob",
        "colab_type": "code",
        "colab": {}
      },
      "source": [
        "loaddata_train1=np.loadtxt('E:/24510013/ML/synthetic_data/linearlySeparableData/group4/class1_train.txt')\n",
        "loaddata_train2=np.loadtxt('E:/24510013/ML/synthetic_data/linearlySeparableData/group4/class2_train.txt')\n",
        "loaddata_train3=np.loadtxt('E:/24510013/ML/synthetic_data/linearlySeparableData/group4/class3_train.txt')\n",
        "loaddata_train4=np.loadtxt('E:/24510013/ML/synthetic_data/linearlySeparableData/group4/class4_train.txt')\n",
        "loaddata_test1=np.loadtxt('E:/24510013/ML/synthetic_data/linearlySeparableData/group4/class1_test.txt')\n",
        "loaddata_test2=np.loadtxt('E:/24510013/ML/synthetic_data/linearlySeparableData/group4/class2_test.txt')\n",
        "loaddata_test3=np.loadtxt('E:/24510013/ML/synthetic_data/linearlySeparableData/group4/class3_test.txt')\n",
        "loaddata_test4=np.loadtxt('E:/24510013/ML/synthetic_data/linearlySeparableData/group4/class4_test.txt')"
      ],
      "execution_count": 0,
      "outputs": []
    },
    {
      "cell_type": "code",
      "metadata": {
        "id": "FxeOjEKfMqog",
        "colab_type": "code",
        "colab": {},
        "outputId": "cefde9b0-685a-4b3d-f2de-7889ac36b240"
      },
      "source": [
        "plt.scatter(loaddata_train1[:,0], loaddata_train1[:,1], marker='o', label='Class1')\n",
        "plt.scatter(loaddata_train2[:,0], loaddata_train2[:,1], marker='x', label='Class2')\n",
        "plt.scatter(loaddata_train3[:,0], loaddata_train3[:,1], marker='^', label='Class3')\n",
        "plt.scatter(loaddata_train4[:,0], loaddata_train4[:,1], marker='*', label='Class4')\n",
        "plt.legend()\n",
        "plt.show()"
      ],
      "execution_count": 0,
      "outputs": [
        {
          "output_type": "display_data",
          "data": {
            "image/png": "[encoded data removed]",
            "text/plain": [
              "<Figure size 432x288 with 1 Axes>"
            ]
          },
          "metadata": {
            "tags": [],
            "needs_background": "light"
          }
        }
      ]
    },
    {
      "cell_type": "code",
      "metadata": {
        "id": "qrB1Tr5fMqor",
        "colab_type": "code",
        "colab": {},
        "outputId": "b844d9eb-73c7-4505-8b9f-847d871438a8"
      },
      "source": [
        "loaddata_train3\n",
        "    "
      ],
      "execution_count": 0,
      "outputs": [
        {
          "output_type": "execute_result",
          "data": {
            "text/plain": [
              "array([[ 10.832  , -10.101  ],\n",
              "       [ 11.241  , -10.444  ],\n",
              "       [ 10.038  ,  -6.2968 ],\n",
              "       [ 11.351  ,  -7.1495 ],\n",
              "       [ 12.284  ,  -6.9804 ],\n",
              "       [  9.2879 ,  -7.5166 ],\n",
              "       [ 11.161  ,  -6.8744 ],\n",
              "       [  8.8977 , -10.504  ],\n",
              "       [  8.7638 , -11.427  ],\n",
              "       [  9.9501 ,  -8.1232 ],\n",
              "       [ 11.143  ,  -6.9348 ],\n",
              "       [  9.6547 ,  -7.941  ],\n",
              "       [ 12.198  ,  -7.3701 ],\n",
              "       [  9.5975 ,  -8.6004 ],\n",
              "       [ 12.846  ,  -8.3291 ],\n",
              "       [  8.1721 ,  -9.9303 ],\n",
              "       [ 13.38   ,  -6.3359 ],\n",
              "       [ 10.15   ,  -8.703  ],\n",
              "       [  9.4026 , -12.466  ],\n",
              "       [ 10.19   ,  -8.5039 ],\n",
              "       [  8.2086 ,  -9.3974 ],\n",
              "       [  8.4018 ,  -9.638  ],\n",
              "       [ 12.835  ,  -7.3636 ],\n",
              "       [ 13.09   ,  -6.9753 ],\n",
              "       [ 14.664  ,  -6.3829 ],\n",
              "       [  8.4866 ,  -9.6807 ],\n",
              "       [ 14.078  ,  -5.5163 ],\n",
              "       [ 13.206  ,  -6.8758 ],\n",
              "       [  9.9194 , -11.583  ],\n",
              "       [ 12.234  ,  -7.5003 ],\n",
              "       [ 10.456  , -10.333  ],\n",
              "       [ 13.223  ,  -4.7636 ],\n",
              "       [ 10.9    ,  -9.7368 ],\n",
              "       [ 12.618  ,  -5.778  ],\n",
              "       [  7.4877 ,  -9.0357 ],\n",
              "       [ 10.262  ,  -8.1292 ],\n",
              "       [ 10.59   ,  -8.3739 ],\n",
              "       [  9.0751 ,  -9.2834 ],\n",
              "       [ 14.751  ,  -7.4207 ],\n",
              "       [  7.1885 , -10.353  ],\n",
              "       [ 12.797  ,  -8.9482 ],\n",
              "       [ 10.226  , -12.298  ],\n",
              "       [ 12.264  ,  -6.0323 ],\n",
              "       [ 10.396  ,  -6.0535 ],\n",
              "       [ 12.207  ,  -8.0936 ],\n",
              "       [ 10.083  ,  -7.8421 ],\n",
              "       [ 14.285  ,  -6.7392 ],\n",
              "       [ 14.729  ,  -4.2632 ],\n",
              "       [  9.7543 ,  -8.148  ],\n",
              "       [  7.7827 ,  -9.9144 ],\n",
              "       [  9.8335 ,  -8.66   ],\n",
              "       [ 12.815  ,  -8.0961 ],\n",
              "       [ 11.612  ,  -8.4038 ],\n",
              "       [ 17.6    ,  -0.19891],\n",
              "       [  9.6986 ,  -7.0187 ],\n",
              "       [ 12.496  ,  -7.3276 ],\n",
              "       [ 13.092  ,  -6.6958 ],\n",
              "       [  9.9447 , -11.898  ],\n",
              "       [  9.7746 ,  -9.2984 ],\n",
              "       [  7.5075 , -11.078  ],\n",
              "       [ 10.817  ,  -8.0125 ],\n",
              "       [ 12.543  ,  -7.1342 ],\n",
              "       [ 10.708  ,  -9.1303 ],\n",
              "       [ 13.553  ,  -7.674  ],\n",
              "       [ 12.593  ,  -6.0993 ],\n",
              "       [ 10.019  ,  -9.5479 ],\n",
              "       [ 10.266  ,  -9.0002 ],\n",
              "       [ 10.74   ,  -8.591  ],\n",
              "       [  9.8775 ,  -9.3182 ],\n",
              "       [  9.4822 ,  -9.6596 ],\n",
              "       [  7.8333 , -11.037  ],\n",
              "       [  5.7244 , -11.196  ],\n",
              "       [  7.0391 , -10.754  ],\n",
              "       [ 12.908  ,  -4.6925 ],\n",
              "       [  8.2665 ,  -8.3619 ],\n",
              "       [  8.5199 ,  -9.5605 ],\n",
              "       [ 10.68   ,  -8.8081 ],\n",
              "       [ 12.139  ,  -9.1796 ],\n",
              "       [  9.8242 ,  -9.9415 ],\n",
              "       [ 12.526  ,  -6.1343 ],\n",
              "       [ 10.458  , -10.352  ],\n",
              "       [  8.45   ,  -9.9783 ],\n",
              "       [  9.4853 ,  -9.1586 ],\n",
              "       [ 14.289  ,  -7.448  ],\n",
              "       [  8.7774 ,  -9.2321 ],\n",
              "       [ 14.021  ,  -6.7941 ],\n",
              "       [ 12.126  ,  -6.0842 ],\n",
              "       [ 12.642  ,  -6.6418 ],\n",
              "       [ 10.289  ,  -8.8147 ],\n",
              "       [  7.5138 ,  -9.3026 ],\n",
              "       [ 12.893  ,  -7.5712 ],\n",
              "       [ 10.678  ,  -8.4118 ],\n",
              "       [  8.8224 , -10.685  ],\n",
              "       [ 11.211  ,  -9.1361 ],\n",
              "       [ 13.621  ,  -5.887  ],\n",
              "       [ 13.951  ,  -4.654  ],\n",
              "       [ 14.326  ,  -2.7707 ],\n",
              "       [  8.0946 , -10.047  ],\n",
              "       [ 13.269  ,  -9.6824 ],\n",
              "       [ 11.223  ,  -5.4086 ],\n",
              "       [ 11.757  ,  -8.2768 ],\n",
              "       [ 10.851  ,  -6.0418 ],\n",
              "       [  9.6365 , -10.111  ],\n",
              "       [ 10.055  ,  -9.4844 ],\n",
              "       [  9.2903 ,  -9.636  ],\n",
              "       [  9.9802 , -10.998  ],\n",
              "       [ 16.27   ,  -3.894  ],\n",
              "       [ 11.466  ,  -7.2257 ],\n",
              "       [ 13.004  ,  -5.5929 ],\n",
              "       [  9.8898 ,  -9.653  ],\n",
              "       [ 11.271  ,  -5.7855 ],\n",
              "       [  9.0995 ,  -9.1769 ],\n",
              "       [ 12.57   ,  -7.0075 ],\n",
              "       [ 12.016  ,  -5.8116 ],\n",
              "       [ 11.673  ,  -7.4662 ],\n",
              "       [  9.4053 , -10.367  ],\n",
              "       [ 10.57   , -10.414  ],\n",
              "       [ 12.127  ,  -7.0163 ],\n",
              "       [ 11.155  ,  -6.496  ],\n",
              "       [ 11.687  ,  -9.5387 ],\n",
              "       [  8.7603 ,  -9.4833 ],\n",
              "       [ 15.622  ,  -1.7962 ],\n",
              "       [ 13.144  ,  -7.7212 ],\n",
              "       [  9.1115 , -10.931  ],\n",
              "       [ 11.258  ,  -7.3768 ],\n",
              "       [ 11.885  ,  -6.1766 ],\n",
              "       [ 11.214  ,  -8.5372 ],\n",
              "       [ 12.654  ,  -7.3514 ],\n",
              "       [ 10.542  ,  -7.0069 ],\n",
              "       [  9.9206 ,  -8.8331 ],\n",
              "       [  9.2811 ,  -9.3657 ],\n",
              "       [ 14.558  ,  -5.4333 ],\n",
              "       [ 10.857  ,  -9.8245 ],\n",
              "       [  7.5726 , -12.42   ],\n",
              "       [ 10.61   ,  -9.7652 ],\n",
              "       [ 10.91   ,  -8.435  ],\n",
              "       [  9.8042 ,  -8.6536 ],\n",
              "       [  7.7117 , -10.153  ],\n",
              "       [  8.0077 , -10.183  ],\n",
              "       [ 12.677  ,  -4.4074 ],\n",
              "       [  7.5878 , -10.713  ],\n",
              "       [ 10.471  ,  -7.4932 ],\n",
              "       [  6.0861 , -12.94   ],\n",
              "       [ 12.578  ,  -6.129  ],\n",
              "       [ 11.712  ,  -9.7446 ],\n",
              "       [ 10.101  , -10.432  ],\n",
              "       [ 12.37   ,  -8.1422 ],\n",
              "       [  9.5882 ,  -7.0634 ],\n",
              "       [  7.6026 , -10.653  ],\n",
              "       [ 11.163  ,  -8.3404 ],\n",
              "       [  9.3804 ,  -9.4718 ],\n",
              "       [ 10.805  ,  -8.8154 ],\n",
              "       [ 16.029  ,  -4.5036 ],\n",
              "       [  9.3039 ,  -8.3177 ],\n",
              "       [  8.7899 ,  -9.8239 ],\n",
              "       [ 10.647  ,  -7.9562 ],\n",
              "       [ 12.534  ,  -7.1721 ],\n",
              "       [ 11.752  ,  -8.4066 ],\n",
              "       [ 11.645  ,  -8.4197 ],\n",
              "       [ 11.535  ,  -7.1085 ],\n",
              "       [ 10.598  ,  -8.8223 ],\n",
              "       [ 10.953  ,  -8.5702 ],\n",
              "       [ 11.384  ,  -6.503  ],\n",
              "       [  8.444  ,  -9.6517 ],\n",
              "       [ 13.832  ,  -4.2709 ],\n",
              "       [ 10.526  ,  -9.881  ],\n",
              "       [ 11.033  ,  -7.2977 ],\n",
              "       [ 12.081  ,  -6.0882 ],\n",
              "       [ 10.014  ,  -8.7301 ],\n",
              "       [ 16.662  ,  -4.2717 ],\n",
              "       [ 10.643  , -10.947  ],\n",
              "       [ 11.696  ,  -5.9017 ],\n",
              "       [ 10.424  ,  -8.8407 ],\n",
              "       [ 14.675  ,  -6.0686 ],\n",
              "       [ 10.957  , -10.411  ],\n",
              "       [ 11.789  ,  -7.2631 ],\n",
              "       [ 11.129  , -10.084  ],\n",
              "       [ 12.002  ,  -5.7076 ],\n",
              "       [ 12.733  ,  -5.8462 ],\n",
              "       [ 11.233  ,  -6.8652 ],\n",
              "       [ 12.316  ,  -6.4566 ],\n",
              "       [ 10.524  ,  -9.5728 ],\n",
              "       [ 14.728  ,  -5.9703 ],\n",
              "       [ 13.893  ,  -5.9097 ],\n",
              "       [ 12.453  ,  -7.2838 ],\n",
              "       [ 13.341  ,  -4.9286 ],\n",
              "       [  7.3226 ,  -8.2179 ],\n",
              "       [ 12.635  ,  -8.4334 ],\n",
              "       [ 11.583  ,  -7.8092 ],\n",
              "       [ 13.368  ,  -6.0237 ],\n",
              "       [  9.9036 ,  -7.9142 ],\n",
              "       [ 12.269  ,  -5.9135 ],\n",
              "       [ 12.897  ,  -6.6398 ],\n",
              "       [ 11.389  ,  -8.2072 ],\n",
              "       [  8.9869 ,  -8.6591 ],\n",
              "       [ 10.906  ,  -7.2404 ],\n",
              "       [  9.3614 ,  -8.9277 ],\n",
              "       [ 14.183  ,  -4.5532 ],\n",
              "       [  8.8646 ,  -9.6695 ],\n",
              "       [ 15.579  ,  -4.5092 ],\n",
              "       [ 12.759  ,  -6.1888 ],\n",
              "       [  7.8424 ,  -8.7889 ],\n",
              "       [ 10.351  ,  -9.5123 ],\n",
              "       [  9.4816 , -10.486  ],\n",
              "       [ 13.721  ,  -7.1522 ],\n",
              "       [ 10.837  ,  -8.9973 ],\n",
              "       [ 11.555  ,  -7.5504 ],\n",
              "       [  9.8409 ,  -8.2561 ],\n",
              "       [ 11.052  , -10.244  ],\n",
              "       [ 13.467  ,  -6.1159 ],\n",
              "       [ 11.446  ,  -7.9231 ],\n",
              "       [  8.7884 ,  -9.3074 ],\n",
              "       [ 12.52   ,  -8.0396 ],\n",
              "       [ 12.626  ,  -7.9379 ],\n",
              "       [ 15.277  ,  -5.2458 ],\n",
              "       [ 10.857  ,  -7.3315 ],\n",
              "       [ 13.911  ,  -6.5728 ],\n",
              "       [ 12.431  ,  -6.9001 ],\n",
              "       [ 12.125  ,  -6.9895 ],\n",
              "       [  9.7673 , -10.771  ],\n",
              "       [ 10.728  ,  -8.484  ],\n",
              "       [  9.942  ,  -8.0564 ],\n",
              "       [ 17.282  ,  -2.9851 ],\n",
              "       [ 11.644  ,  -8.9627 ],\n",
              "       [ 11.973  ,  -6.2318 ],\n",
              "       [  7.2288 , -12.769  ],\n",
              "       [  8.949  ,  -8.1928 ],\n",
              "       [ 11.681  ,  -6.6643 ],\n",
              "       [ 13.03   ,  -8.328  ],\n",
              "       [ 13.667  ,  -6.3562 ],\n",
              "       [ 12.252  ,  -5.2338 ],\n",
              "       [ 10.802  ,  -5.3709 ],\n",
              "       [ 10.38   ,  -8.6429 ],\n",
              "       [  9.9419 ,  -7.507  ],\n",
              "       [ 11.89   ,  -8.9349 ],\n",
              "       [  8.1604 ,  -9.6231 ],\n",
              "       [ 11.141  ,  -8.097  ],\n",
              "       [ 13.441  ,  -6.6327 ],\n",
              "       [ 10.193  ,  -8.8569 ],\n",
              "       [ 12.554  ,  -8.8035 ],\n",
              "       [  9.3519 , -10.53   ],\n",
              "       [ 11.961  ,  -7.9234 ],\n",
              "       [  9.054  , -11.138  ],\n",
              "       [  6.8872 , -12.014  ],\n",
              "       [ 11.443  , -10.083  ],\n",
              "       [ 11.258  ,  -7.91   ],\n",
              "       [  7.0656 , -11.702  ],\n",
              "       [ 13.152  ,  -6.0844 ],\n",
              "       [ 10.622  ,  -7.833  ],\n",
              "       [  9.078  ,  -7.1251 ]])"
            ]
          },
          "metadata": {
            "tags": []
          },
          "execution_count": 5
        }
      ]
    },
    {
      "cell_type": "code",
      "metadata": {
        "id": "2vKJi5LjMqow",
        "colab_type": "code",
        "colab": {}
      },
      "source": [
        ""
      ],
      "execution_count": 0,
      "outputs": []
    },
    {
      "cell_type": "code",
      "metadata": {
        "id": "3P6jPSoDMqo1",
        "colab_type": "code",
        "colab": {}
      },
      "source": [
        "from math import sqrt\n",
        "def euc_dist(x1,x2):\n",
        "    d=0.0\n",
        "    for i in range(len(x1)-1):\n",
        "        d+=(x1[i] - x2[i])**2\n",
        "    return sqrt(d)"
      ],
      "execution_count": 0,
      "outputs": []
    },
    {
      "cell_type": "code",
      "metadata": {
        "id": "sTbW8jIsMqo6",
        "colab_type": "code",
        "colab": {}
      },
      "source": [
        "def get_neb(dataset,test_row,k):\n",
        "    dist_l=list()\n",
        "    for data_row in dataset:\n",
        "        dt=euc_dist(data_row,test_row)\n",
        "        dist_l.append((data_row,dt))\n",
        "    dist_l.sort(key=lambda tup:tup[1])\n",
        "    neighbors=list()\n",
        "    for i in range(k):\n",
        "        neighbors.append(dist_l[i][0])\n",
        "    return neighbors"
      ],
      "execution_count": 0,
      "outputs": []
    },
    {
      "cell_type": "code",
      "metadata": {
        "id": "X8eWPHGVMqo-",
        "colab_type": "code",
        "colab": {}
      },
      "source": [
        "def predict_class(dataset,test_row,k):\n",
        "    neighbors = get_neb(dataset, test_row,k)\n",
        "    c_values = [row[-1] for row in neighbors]\n",
        "    prediction = max(set(c_values), key=c_values.count)\n",
        "    return prediction"
      ],
      "execution_count": 0,
      "outputs": []
    },
    {
      "cell_type": "code",
      "metadata": {
        "id": "hEMXbu7vMqpC",
        "colab_type": "code",
        "colab": {}
      },
      "source": [
        ""
      ],
      "execution_count": 0,
      "outputs": []
    },
    {
      "cell_type": "code",
      "metadata": {
        "id": "oS9D6tCrMqpF",
        "colab_type": "code",
        "colab": {}
      },
      "source": [
        "l1=np.ones((loaddata_train1.shape[0], 1))\n",
        "l2=np.ones((loaddata_train2.shape[0], 1))*2\n",
        "l3=np.ones((loaddata_train3.shape[0], 1))*3\n",
        "l4=np.ones((loaddata_train4.shape[0], 1))*4\n",
        "train1=np.append(loaddata_train1,l1,axis=1)\n",
        "train2=np.append(loaddata_train2,l2,axis=1)\n",
        "train3=np.append(loaddata_train3,l3,axis=1)\n",
        "train4=np.append(loaddata_train4,l4,axis=1)\n",
        "dataset=np.concatenate((train1,train2,train3,train4))\n"
      ],
      "execution_count": 0,
      "outputs": []
    },
    {
      "cell_type": "code",
      "metadata": {
        "id": "BnAL3jSBMqpK",
        "colab_type": "code",
        "colab": {},
        "outputId": "ab5b47ae-8878-4bab-d3f5-2c8ac515f743"
      },
      "source": [
        "predict_class(dataset,loaddata_test3[10],17)"
      ],
      "execution_count": 0,
      "outputs": [
        {
          "output_type": "execute_result",
          "data": {
            "text/plain": [
              "3.0"
            ]
          },
          "metadata": {
            "tags": []
          },
          "execution_count": 11
        }
      ]
    },
    {
      "cell_type": "code",
      "metadata": {
        "id": "QU6OlqTgMqpQ",
        "colab_type": "code",
        "colab": {}
      },
      "source": [
        "l1=np.ones((loaddata_test1.shape[0], 1))\n",
        "l2=np.ones((loaddata_test2.shape[0], 1))*2\n",
        "l3=np.ones((loaddata_test3.shape[0], 1))*3\n",
        "l4=np.ones((loaddata_test4.shape[0], 1))*4\n",
        "train1=np.append(loaddata_test1,l1,axis=1)\n",
        "train2=np.append(loaddata_test2,l2,axis=1)\n",
        "train3=np.append(loaddata_test3,l3,axis=1)\n",
        "train4=np.append(loaddata_test4,l4,axis=1)\n",
        "test_data=np.concatenate((train1,train2,train3,train4))\n"
      ],
      "execution_count": 0,
      "outputs": []
    },
    {
      "cell_type": "code",
      "metadata": {
        "id": "G3vh1skrMqpT",
        "colab_type": "code",
        "colab": {},
        "outputId": "a22b4a4a-606e-4b7f-cda0-29c1966c5883"
      },
      "source": [
        "def main():\n",
        "    l11 = 0\n",
        "    l12 = 0\n",
        "    l13=0\n",
        "    l14=0\n",
        "    l21 = 0\n",
        "    l22 = 0\n",
        "    l23=0\n",
        "    l24=0\n",
        "    l31=0\n",
        "    l32=0\n",
        "    l33=0\n",
        "    l34=0\n",
        "    l41=0\n",
        "    l42=0\n",
        "    l43=0\n",
        "    l44=0\n",
        "    \n",
        "\n",
        "    print ('Train: ' + repr(len(dataset)))\n",
        "    print ('Test: ' + repr(len(test_data)))\n",
        " \n",
        "    predictions=[]\n",
        "    k = input(\"Enter value of k: \")\n",
        "    k = int(k) \n",
        "    list_pred = []\n",
        "    list_act = []\n",
        "    for x in range(len(test_data)):\n",
        "        result = predict_class(dataset,test_data[x],k)\n",
        "        predictions.append(result)\n",
        "        list_pred.append(result)\n",
        "        list_act.append(test_data[x][-1])\n",
        "   \n",
        "    for i in range(0, len(test_data)):\n",
        "        x = list_pred[0]\n",
        "        y = list_act[0]\n",
        "        if int(list_pred[i]) == 1 and int(list_act[i]) == 1:\n",
        "            l11 += 1\n",
        "        elif int(list_pred[i]) == 1 and int(list_act[i]) == 2:\n",
        "            l12 += 1\n",
        "        elif int(list_pred[i]) == 1 and int(list_act[i]) == 3:\n",
        "            l13 += 1\n",
        "        elif int(list_pred[i]) == 1 and int(list_act[i]) == 4:\n",
        "            l14 += 1\n",
        "        elif int(list_pred[i]) == 2 and int(list_act[i]) == 1:\n",
        "            l21 += 1\n",
        "        elif int(list_pred[i]) == 2 and int(list_act[i]) == 2:\n",
        "            l22 += 1\n",
        "        elif int(list_pred[i]) == 2 and int(list_act[i]) == 3:\n",
        "            l23 += 1\n",
        "        elif int(list_pred[i]) == 2 and int(list_act[i]) == 4:\n",
        "            l24 += 1\n",
        "        elif int(list_pred[i]) == 3 and int(list_act[i]) == 1:\n",
        "            l31 += 1\n",
        "        elif int(list_pred[i]) == 3 and int(list_act[i]) == 2:\n",
        "            l32 += 1\n",
        "        elif int(list_pred[i]) == 3 and int(list_act[i]) == 3:\n",
        "            l33 += 1\n",
        "        elif int(list_pred[i]) == 3 and int(list_act[i]) == 4:\n",
        "            l34 += 1\n",
        "        elif int(list_pred[i]) == 4 and int(list_act[i]) == 1:\n",
        "            l41 += 1\n",
        "        elif int(list_pred[i]) == 4 and int(list_act[i]) == 2:\n",
        "            l42 += 1\n",
        "        elif int(list_pred[i]) == 4 and int(list_act[i]) == 3:\n",
        "            l43 += 1\n",
        "        elif int(list_pred[i]) == 4 and int(list_act[i]) == 4:\n",
        "            l44 += 1\n",
        "        i+=1\n",
        "\n",
        "    a = np.array([[l11, l12,l13,l14],[l21, l22,l23,l24],[l31, l32,l33,l34],[l41, l42,l43,l44]])\n",
        "    print('Confusion Matrix: ')\t\n",
        "    print(a)\n",
        "\n",
        "    \n",
        "    acc = (l11+l22+l33+l44)*100/400\n",
        "    print('Accuracy: ' + repr(acc))\n",
        "main()"
      ],
      "execution_count": 0,
      "outputs": [
        {
          "output_type": "stream",
          "text": [
            "Train: 1000\n",
            "Test: 400\n",
            "Enter value of k: 17\n",
            "Confusion Matrix: \n",
            "[[100   0   0   0]\n",
            " [  0 100   0   0]\n",
            " [  0   0 100   0]\n",
            " [  0   0   0 100]]\n",
            "Accuracy: 100.0\n"
          ],
          "name": "stdout"
        }
      ]
    }
  ]
}