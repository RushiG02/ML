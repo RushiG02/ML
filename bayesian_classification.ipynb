{
  "nbformat": 4,
  "nbformat_minor": 0,
  "metadata": {
    "kernelspec": {
      "display_name": "Python 3",
      "language": "python",
      "name": "python3"
    },
    "language_info": {
      "codemirror_mode": {
        "name": "ipython",
        "version": 3
      },
      "file_extension": ".py",
      "mimetype": "text/x-python",
      "name": "python",
      "nbconvert_exporter": "python",
      "pygments_lexer": "ipython3",
      "version": "3.7.3"
    },
    "colab": {
      "name": "bayesian_classification.ipynb",
      "provenance": [],
      "include_colab_link": true
    }
  },
  "cells": [
    {
      "cell_type": "markdown",
      "metadata": {
        "id": "view-in-github",
        "colab_type": "text"
      },
      "source": [
        "<a href=\"https://colab.research.google.com/github/RushiG02/ML/blob/master/bayesian_classification.ipynb\" target=\"_parent\"><img src=\"https://colab.research.google.com/assets/colab-badge.svg\" alt=\"Open In Colab\"/></a>"
      ]
    },
    {
      "cell_type": "code",
      "metadata": {
        "id": "QbI-xM6Oa8c9",
        "colab_type": "code",
        "colab": {}
      },
      "source": [
        "import os\n",
        "import numpy as np\n",
        "import matplotlib.pyplot as plt"
      ],
      "execution_count": 0,
      "outputs": []
    },
    {
      "cell_type": "code",
      "metadata": {
        "id": "IY9RvELDa8dQ",
        "colab_type": "code",
        "colab": {}
      },
      "source": [
        "loaddata_train1=np.loadtxt('E:/24510013/ML/synthetic_data/linearlySeparableData/group4/class1_train.txt')\n",
        "loaddata_train2=np.loadtxt('E:/24510013/ML/synthetic_data/linearlySeparableData/group4/class2_train.txt')\n",
        "loaddata_train3=np.loadtxt('E:/24510013/ML/synthetic_data/linearlySeparableData/group4/class3_train.txt')\n",
        "loaddata_train4=np.loadtxt('E:/24510013/ML/synthetic_data/linearlySeparableData/group4/class4_train.txt')\n",
        "loaddata_test1=np.loadtxt('E:/24510013/ML/synthetic_data/linearlySeparableData/group4/class1_test.txt')\n",
        "loaddata_test2=np.loadtxt('E:/24510013/ML/synthetic_data/linearlySeparableData/group4/class2_test.txt')\n",
        "loaddata_test3=np.loadtxt('E:/24510013/ML/synthetic_data/linearlySeparableData/group4/class3_test.txt')\n",
        "loaddata_test4=np.loadtxt('E:/24510013/ML/synthetic_data/linearlySeparableData/group4/class4_test.txt')"
      ],
      "execution_count": 0,
      "outputs": []
    },
    {
      "cell_type": "code",
      "metadata": {
        "id": "YPPhoUPxa8db",
        "colab_type": "code",
        "colab": {}
      },
      "source": [
        "l1=np.ones((loaddata_train1.shape[0], 1))\n",
        "l2=np.ones((loaddata_train2.shape[0], 1))*2\n",
        "l3=np.ones((loaddata_train3.shape[0], 1))*3\n",
        "l4=np.ones((loaddata_train4.shape[0], 1))*4\n",
        "train1=np.append(loaddata_train1,l1,axis=1)\n",
        "train2=np.append(loaddata_train2,l2,axis=1)\n",
        "train3=np.append(loaddata_train3,l3,axis=1)\n",
        "train4=np.append(loaddata_train4,l4,axis=1)\n",
        "dataset=np.concatenate((train1,train2,train3,train4))"
      ],
      "execution_count": 0,
      "outputs": []
    },
    {
      "cell_type": "code",
      "metadata": {
        "id": "2Ywm0u-la8dn",
        "colab_type": "code",
        "colab": {}
      },
      "source": [
        "pc1=loaddata_train1.shape[0]/dataset.shape[0]\n",
        "pc2=loaddata_train2.shape[0]/dataset.shape[0]\n",
        "pc3=loaddata_train3.shape[0]/dataset.shape[0]\n",
        "pc4=loaddata_train4.shape[0]/dataset.shape[0]"
      ],
      "execution_count": 0,
      "outputs": []
    },
    {
      "cell_type": "code",
      "metadata": {
        "id": "2IPvmlIwa8dy",
        "colab_type": "code",
        "colab": {}
      },
      "source": [
        ""
      ],
      "execution_count": 0,
      "outputs": []
    },
    {
      "cell_type": "code",
      "metadata": {
        "id": "Aar9Q5nva8d9",
        "colab_type": "code",
        "colab": {},
        "outputId": "bb390379-fdde-47b5-ba73-e60d4a40f3e3"
      },
      "source": [
        "m1=np.array(loaddata_train1.mean(axis=0))\n",
        "m2=np.array(loaddata_train2.mean(axis=0))\n",
        "m3=np.array(loaddata_train3.mean(axis=0))\n",
        "m4=np.array(loaddata_train4.mean(axis=0))\n",
        "m1.shape"
      ],
      "execution_count": 0,
      "outputs": [
        {
          "output_type": "execute_result",
          "data": {
            "text/plain": [
              "(2,)"
            ]
          },
          "metadata": {
            "tags": []
          },
          "execution_count": 20
        }
      ]
    },
    {
      "cell_type": "code",
      "metadata": {
        "id": "SQxrrvsba8eM",
        "colab_type": "code",
        "colab": {}
      },
      "source": [
        "cov1=np.cov(loaddata_train1.T)\n",
        "cov2=np.cov(loaddata_train2.T)\n",
        "cov3=np.cov(loaddata_train3.T)\n",
        "cov4=np.cov(loaddata_train4.T)"
      ],
      "execution_count": 0,
      "outputs": []
    },
    {
      "cell_type": "code",
      "metadata": {
        "id": "d4F8LCl3a8eZ",
        "colab_type": "code",
        "colab": {}
      },
      "source": [
        "def g_i(x,m_i,cov_i):\n",
        "    a=x-m_i\n",
        "    l=np.matmul(np.matmul(a.T,cov_i),a)\n",
        "    \n",
        "    return l"
      ],
      "execution_count": 0,
      "outputs": []
    },
    {
      "cell_type": "code",
      "metadata": {
        "id": "3dWTaTBxa8ej",
        "colab_type": "code",
        "colab": {}
      },
      "source": [
        "g_i(loaddata_test2[1],m2,cov2)"
      ],
      "execution_count": 0,
      "outputs": []
    }
  ]
}