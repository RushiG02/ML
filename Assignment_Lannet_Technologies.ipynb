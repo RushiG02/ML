{
  "nbformat": 4,
  "nbformat_minor": 0,
  "metadata": {
    "colab": {
      "name": "Assignment_Lannet_Technologies.ipynb",
      "provenance": [],
      "collapsed_sections": [],
      "authorship_tag": "ABX9TyO5BwIeSi0m1+27E02JfSBi",
      "include_colab_link": true
    },
    "kernelspec": {
      "name": "python3",
      "display_name": "Python 3"
    }
  },
  "cells": [
    {
      "cell_type": "markdown",
      "metadata": {
        "id": "view-in-github",
        "colab_type": "text"
      },
      "source": [
        "<a href=\"https://colab.research.google.com/github/RushiG02/ML/blob/master/Assignment_Lannet_Technologies.ipynb\" target=\"_parent\"><img src=\"https://colab.research.google.com/assets/colab-badge.svg\" alt=\"Open In Colab\"/></a>"
      ]
    },
    {
      "cell_type": "code",
      "metadata": {
        "id": "TRDgPNBeLpJr",
        "colab_type": "code",
        "colab": {}
      },
      "source": [
        "import pandas as pd\n",
        "import re"
      ],
      "execution_count": 1,
      "outputs": []
    },
    {
      "cell_type": "code",
      "metadata": {
        "id": "B4H2lwpkqc1M",
        "colab_type": "code",
        "colab": {
          "base_uri": "https://localhost:8080/",
          "height": 119
        },
        "outputId": "2c663f6f-5e79-4ddf-ffa4-8d1ee16484b0"
      },
      "source": [
        "d=pd.read_excel(\"/content/Sample Data.xlsx\")\n",
        "d.dtypes"
      ],
      "execution_count": 2,
      "outputs": [
        {
          "output_type": "execute_result",
          "data": {
            "text/plain": [
              "Reference                      object\n",
              "Date Y Expected        datetime64[ns]\n",
              "Date Y Received        datetime64[ns]\n",
              "Date Created           datetime64[ns]\n",
              "  Date X received      datetime64[ns]\n",
              "dtype: object"
            ]
          },
          "metadata": {
            "tags": []
          },
          "execution_count": 2
        }
      ]
    },
    {
      "cell_type": "code",
      "metadata": {
        "id": "6LkW5r49PLMS",
        "colab_type": "code",
        "colab": {}
      },
      "source": [
        "#Task 1.1\n",
        "def dates(DataSet):\n",
        "  colm=[]\n",
        "  for col in DataSet.columns:\n",
        "    if DataSet[col].dtype=='datetime64[ns]':\n",
        "      colm.append(col)\n",
        "    if DataSet[col].dtype=='object':\n",
        "      match = re.search(r'\\d{2}-\\d{2}',str(DataSet[col][1]))\n",
        "      if match:\n",
        "        DataSet[col]=pd.to_datetime(DataSet[col])\n",
        "        colm.append(col)\n",
        "  return(colm)"
      ],
      "execution_count": 3,
      "outputs": []
    },
    {
      "cell_type": "code",
      "metadata": {
        "id": "rIuGNpJurAE3",
        "colab_type": "code",
        "colab": {
          "base_uri": "https://localhost:8080/",
          "height": 85
        },
        "outputId": "5ccc2574-3b42-4731-c459-0a192e664f5a"
      },
      "source": [
        "dates(d)"
      ],
      "execution_count": 4,
      "outputs": [
        {
          "output_type": "execute_result",
          "data": {
            "text/plain": [
              "['Date Y Expected\\xa0\\xa0\\xa0',\n",
              " 'Date Y Received\\xa0\\xa0\\xa0\\xa0',\n",
              " 'Date Created\\xa0\\xa0\\xa0',\n",
              " '\\xa0 Date X received']"
            ]
          },
          "metadata": {
            "tags": []
          },
          "execution_count": 4
        }
      ]
    },
    {
      "cell_type": "markdown",
      "metadata": {
        "id": "WyWoHFi9nWTR",
        "colab_type": "text"
      },
      "source": [
        "**If dates are of different format throughout the column then pass the dataset in 'change_format(DataSet)' which converts all dates in one format**"
      ]
    },
    {
      "cell_type": "code",
      "metadata": {
        "id": "TKT0m45ZrZAH",
        "colab_type": "code",
        "colab": {}
      },
      "source": [
        "def change_format(DataSet):\n",
        "  c=dates(d)\n",
        "  for i in c:\n",
        "    DataSet[i]=pd.to_datetime(DataSet[i])\n",
        "    DataSet[i]=DataSet[i].dt.strftime('%Y-%m-%d')\n",
        "    DataSet[i]=pd.to_datetime(DataSet[i])\n",
        "  return(DataSet)"
      ],
      "execution_count": 5,
      "outputs": []
    },
    {
      "cell_type": "code",
      "metadata": {
        "id": "z3qvWE9TVXQZ",
        "colab_type": "code",
        "colab": {}
      },
      "source": [
        "#Task 1.2\n",
        "from itertools import combinations\n",
        "def DateDifference(DataSet):\n",
        "  c=dates(DataSet)\n",
        "  comb = combinations(c, 2)\n",
        "  for i in comb:\n",
        "    DataSet[str(i[0])+'-'+str(i[1])]=abs(DataSet[i[0]]-DataSet[i[1]])\n",
        "\n",
        "  return(DataSet)"
      ],
      "execution_count": 6,
      "outputs": []
    },
    {
      "cell_type": "code",
      "metadata": {
        "id": "WDV1VK8Asz6v",
        "colab_type": "code",
        "colab": {
          "base_uri": "https://localhost:8080/",
          "height": 235
        },
        "outputId": "45c72fc8-c170-43b2-afcd-76c83e39f9f8"
      },
      "source": [
        "change_format(d)"
      ],
      "execution_count": 7,
      "outputs": [
        {
          "output_type": "execute_result",
          "data": {
            "text/html": [
              "<div>\n",
              "<style scoped>\n",
              "    .dataframe tbody tr th:only-of-type {\n",
              "        vertical-align: middle;\n",
              "    }\n",
              "\n",
              "    .dataframe tbody tr th {\n",
              "        vertical-align: top;\n",
              "    }\n",
              "\n",
              "    .dataframe thead th {\n",
              "        text-align: right;\n",
              "    }\n",
              "</style>\n",
              "<table border=\"1\" class=\"dataframe\">\n",
              "  <thead>\n",
              "    <tr style=\"text-align: right;\">\n",
              "      <th></th>\n",
              "      <th>Reference</th>\n",
              "      <th>Date Y Expected</th>\n",
              "      <th>Date Y Received</th>\n",
              "      <th>Date Created</th>\n",
              "      <th>Date X received</th>\n",
              "    </tr>\n",
              "  </thead>\n",
              "  <tbody>\n",
              "    <tr>\n",
              "      <th>0</th>\n",
              "      <td>1234</td>\n",
              "      <td>2018-06-01</td>\n",
              "      <td>2018-06-23</td>\n",
              "      <td>2018-04-01</td>\n",
              "      <td>2018-05-15</td>\n",
              "    </tr>\n",
              "    <tr>\n",
              "      <th>1</th>\n",
              "      <td>1234</td>\n",
              "      <td>2018-06-01</td>\n",
              "      <td>2018-06-23</td>\n",
              "      <td>2018-04-01</td>\n",
              "      <td>2018-05-15</td>\n",
              "    </tr>\n",
              "    <tr>\n",
              "      <th>2</th>\n",
              "      <td>1234</td>\n",
              "      <td>2018-06-01</td>\n",
              "      <td>2018-06-23</td>\n",
              "      <td>2018-04-01</td>\n",
              "      <td>2018-05-15</td>\n",
              "    </tr>\n",
              "    <tr>\n",
              "      <th>3</th>\n",
              "      <td>1235</td>\n",
              "      <td>2018-09-09</td>\n",
              "      <td>NaT</td>\n",
              "      <td>2018-04-10</td>\n",
              "      <td>2018-05-10</td>\n",
              "    </tr>\n",
              "    <tr>\n",
              "      <th>4</th>\n",
              "      <td>1236</td>\n",
              "      <td>NaT</td>\n",
              "      <td>NaT</td>\n",
              "      <td>2018-05-01</td>\n",
              "      <td>NaT</td>\n",
              "    </tr>\n",
              "    <tr>\n",
              "      <th>5</th>\n",
              "      <td>1237</td>\n",
              "      <td>2018-08-10</td>\n",
              "      <td>2018-07-20</td>\n",
              "      <td>2018-04-20</td>\n",
              "      <td>2018-04-21</td>\n",
              "    </tr>\n",
              "  </tbody>\n",
              "</table>\n",
              "</div>"
            ],
            "text/plain": [
              "   Reference      Date Y Expected     ... Date Created      Date X received\n",
              "0  1234                   2018-06-01  ...      2018-04-01        2018-05-15\n",
              "1  1234                   2018-06-01  ...      2018-04-01        2018-05-15\n",
              "2  1234                   2018-06-01  ...      2018-04-01        2018-05-15\n",
              "3  1235                   2018-09-09  ...      2018-04-10        2018-05-10\n",
              "4  1236                          NaT  ...      2018-05-01               NaT\n",
              "5  1237                   2018-08-10  ...      2018-04-20        2018-04-21\n",
              "\n",
              "[6 rows x 5 columns]"
            ]
          },
          "metadata": {
            "tags": []
          },
          "execution_count": 7
        }
      ]
    },
    {
      "cell_type": "code",
      "metadata": {
        "id": "eCYC66-ps4f4",
        "colab_type": "code",
        "colab": {
          "base_uri": "https://localhost:8080/",
          "height": 408
        },
        "outputId": "07f4d3d7-2a73-4514-ad42-863f133f206c"
      },
      "source": [
        "DateDifference(d)"
      ],
      "execution_count": 8,
      "outputs": [
        {
          "output_type": "execute_result",
          "data": {
            "text/html": [
              "<div>\n",
              "<style scoped>\n",
              "    .dataframe tbody tr th:only-of-type {\n",
              "        vertical-align: middle;\n",
              "    }\n",
              "\n",
              "    .dataframe tbody tr th {\n",
              "        vertical-align: top;\n",
              "    }\n",
              "\n",
              "    .dataframe thead th {\n",
              "        text-align: right;\n",
              "    }\n",
              "</style>\n",
              "<table border=\"1\" class=\"dataframe\">\n",
              "  <thead>\n",
              "    <tr style=\"text-align: right;\">\n",
              "      <th></th>\n",
              "      <th>Reference</th>\n",
              "      <th>Date Y Expected</th>\n",
              "      <th>Date Y Received</th>\n",
              "      <th>Date Created</th>\n",
              "      <th>Date X received</th>\n",
              "      <th>Date Y Expected   -Date Y Received</th>\n",
              "      <th>Date Y Expected   -Date Created</th>\n",
              "      <th>Date Y Expected   -  Date X received</th>\n",
              "      <th>Date Y Received    -Date Created</th>\n",
              "      <th>Date Y Received    -  Date X received</th>\n",
              "      <th>Date Created   -  Date X received</th>\n",
              "    </tr>\n",
              "  </thead>\n",
              "  <tbody>\n",
              "    <tr>\n",
              "      <th>0</th>\n",
              "      <td>1234</td>\n",
              "      <td>2018-06-01</td>\n",
              "      <td>2018-06-23</td>\n",
              "      <td>2018-04-01</td>\n",
              "      <td>2018-05-15</td>\n",
              "      <td>22 days</td>\n",
              "      <td>61 days</td>\n",
              "      <td>17 days</td>\n",
              "      <td>83 days</td>\n",
              "      <td>39 days</td>\n",
              "      <td>44 days</td>\n",
              "    </tr>\n",
              "    <tr>\n",
              "      <th>1</th>\n",
              "      <td>1234</td>\n",
              "      <td>2018-06-01</td>\n",
              "      <td>2018-06-23</td>\n",
              "      <td>2018-04-01</td>\n",
              "      <td>2018-05-15</td>\n",
              "      <td>22 days</td>\n",
              "      <td>61 days</td>\n",
              "      <td>17 days</td>\n",
              "      <td>83 days</td>\n",
              "      <td>39 days</td>\n",
              "      <td>44 days</td>\n",
              "    </tr>\n",
              "    <tr>\n",
              "      <th>2</th>\n",
              "      <td>1234</td>\n",
              "      <td>2018-06-01</td>\n",
              "      <td>2018-06-23</td>\n",
              "      <td>2018-04-01</td>\n",
              "      <td>2018-05-15</td>\n",
              "      <td>22 days</td>\n",
              "      <td>61 days</td>\n",
              "      <td>17 days</td>\n",
              "      <td>83 days</td>\n",
              "      <td>39 days</td>\n",
              "      <td>44 days</td>\n",
              "    </tr>\n",
              "    <tr>\n",
              "      <th>3</th>\n",
              "      <td>1235</td>\n",
              "      <td>2018-09-09</td>\n",
              "      <td>NaT</td>\n",
              "      <td>2018-04-10</td>\n",
              "      <td>2018-05-10</td>\n",
              "      <td>NaT</td>\n",
              "      <td>152 days</td>\n",
              "      <td>122 days</td>\n",
              "      <td>NaT</td>\n",
              "      <td>NaT</td>\n",
              "      <td>30 days</td>\n",
              "    </tr>\n",
              "    <tr>\n",
              "      <th>4</th>\n",
              "      <td>1236</td>\n",
              "      <td>NaT</td>\n",
              "      <td>NaT</td>\n",
              "      <td>2018-05-01</td>\n",
              "      <td>NaT</td>\n",
              "      <td>NaT</td>\n",
              "      <td>NaT</td>\n",
              "      <td>NaT</td>\n",
              "      <td>NaT</td>\n",
              "      <td>NaT</td>\n",
              "      <td>NaT</td>\n",
              "    </tr>\n",
              "    <tr>\n",
              "      <th>5</th>\n",
              "      <td>1237</td>\n",
              "      <td>2018-08-10</td>\n",
              "      <td>2018-07-20</td>\n",
              "      <td>2018-04-20</td>\n",
              "      <td>2018-04-21</td>\n",
              "      <td>21 days</td>\n",
              "      <td>112 days</td>\n",
              "      <td>111 days</td>\n",
              "      <td>91 days</td>\n",
              "      <td>90 days</td>\n",
              "      <td>1 days</td>\n",
              "    </tr>\n",
              "  </tbody>\n",
              "</table>\n",
              "</div>"
            ],
            "text/plain": [
              "   Reference       ... Date Created   -  Date X received\n",
              "0  1234            ...                           44 days\n",
              "1  1234            ...                           44 days\n",
              "2  1234            ...                           44 days\n",
              "3  1235            ...                           30 days\n",
              "4  1236            ...                               NaT\n",
              "5  1237            ...                            1 days\n",
              "\n",
              "[6 rows x 11 columns]"
            ]
          },
          "metadata": {
            "tags": []
          },
          "execution_count": 8
        }
      ]
    },
    {
      "cell_type": "code",
      "metadata": {
        "id": "PDRT9_fDt1Dy",
        "colab_type": "code",
        "colab": {}
      },
      "source": [
        "#Task 1.3\n",
        "def DeleteColumns(DataSet):\n",
        "  c=dates(DataSet)\n",
        "  DataSet = DataSet.drop(c, axis=1)\n",
        "  return(DataSet)"
      ],
      "execution_count": 9,
      "outputs": []
    },
    {
      "cell_type": "code",
      "metadata": {
        "id": "f_uljVOHuq6v",
        "colab_type": "code",
        "colab": {
          "base_uri": "https://localhost:8080/",
          "height": 269
        },
        "outputId": "817f581e-09e3-404c-f1db-bcb56e27d1fa"
      },
      "source": [
        "DeleteColumns(d)"
      ],
      "execution_count": 10,
      "outputs": [
        {
          "output_type": "execute_result",
          "data": {
            "text/html": [
              "<div>\n",
              "<style scoped>\n",
              "    .dataframe tbody tr th:only-of-type {\n",
              "        vertical-align: middle;\n",
              "    }\n",
              "\n",
              "    .dataframe tbody tr th {\n",
              "        vertical-align: top;\n",
              "    }\n",
              "\n",
              "    .dataframe thead th {\n",
              "        text-align: right;\n",
              "    }\n",
              "</style>\n",
              "<table border=\"1\" class=\"dataframe\">\n",
              "  <thead>\n",
              "    <tr style=\"text-align: right;\">\n",
              "      <th></th>\n",
              "      <th>Reference</th>\n",
              "      <th>Date Y Expected   -Date Y Received</th>\n",
              "      <th>Date Y Expected   -Date Created</th>\n",
              "      <th>Date Y Expected   -  Date X received</th>\n",
              "      <th>Date Y Received    -Date Created</th>\n",
              "      <th>Date Y Received    -  Date X received</th>\n",
              "      <th>Date Created   -  Date X received</th>\n",
              "    </tr>\n",
              "  </thead>\n",
              "  <tbody>\n",
              "    <tr>\n",
              "      <th>0</th>\n",
              "      <td>1234</td>\n",
              "      <td>22 days</td>\n",
              "      <td>61 days</td>\n",
              "      <td>17 days</td>\n",
              "      <td>83 days</td>\n",
              "      <td>39 days</td>\n",
              "      <td>44 days</td>\n",
              "    </tr>\n",
              "    <tr>\n",
              "      <th>1</th>\n",
              "      <td>1234</td>\n",
              "      <td>22 days</td>\n",
              "      <td>61 days</td>\n",
              "      <td>17 days</td>\n",
              "      <td>83 days</td>\n",
              "      <td>39 days</td>\n",
              "      <td>44 days</td>\n",
              "    </tr>\n",
              "    <tr>\n",
              "      <th>2</th>\n",
              "      <td>1234</td>\n",
              "      <td>22 days</td>\n",
              "      <td>61 days</td>\n",
              "      <td>17 days</td>\n",
              "      <td>83 days</td>\n",
              "      <td>39 days</td>\n",
              "      <td>44 days</td>\n",
              "    </tr>\n",
              "    <tr>\n",
              "      <th>3</th>\n",
              "      <td>1235</td>\n",
              "      <td>NaT</td>\n",
              "      <td>152 days</td>\n",
              "      <td>122 days</td>\n",
              "      <td>NaT</td>\n",
              "      <td>NaT</td>\n",
              "      <td>30 days</td>\n",
              "    </tr>\n",
              "    <tr>\n",
              "      <th>4</th>\n",
              "      <td>1236</td>\n",
              "      <td>NaT</td>\n",
              "      <td>NaT</td>\n",
              "      <td>NaT</td>\n",
              "      <td>NaT</td>\n",
              "      <td>NaT</td>\n",
              "      <td>NaT</td>\n",
              "    </tr>\n",
              "    <tr>\n",
              "      <th>5</th>\n",
              "      <td>1237</td>\n",
              "      <td>21 days</td>\n",
              "      <td>112 days</td>\n",
              "      <td>111 days</td>\n",
              "      <td>91 days</td>\n",
              "      <td>90 days</td>\n",
              "      <td>1 days</td>\n",
              "    </tr>\n",
              "  </tbody>\n",
              "</table>\n",
              "</div>"
            ],
            "text/plain": [
              "   Reference       ... Date Created   -  Date X received\n",
              "0  1234            ...                           44 days\n",
              "1  1234            ...                           44 days\n",
              "2  1234            ...                           44 days\n",
              "3  1235            ...                           30 days\n",
              "4  1236            ...                               NaT\n",
              "5  1237            ...                            1 days\n",
              "\n",
              "[6 rows x 7 columns]"
            ]
          },
          "metadata": {
            "tags": []
          },
          "execution_count": 10
        }
      ]
    },
    {
      "cell_type": "code",
      "metadata": {
        "id": "z4-5FQDcwVOr",
        "colab_type": "code",
        "colab": {}
      },
      "source": [
        "#Task 2.1\n",
        "\n",
        "def Corrln(DataSet):\n",
        "  corr=DataSet.corr(method ='pearson')\n",
        "  x=[]\n",
        "  for i in range(len(corr.columns)):\n",
        "    for j in range(i+1,len(corr.columns)):\n",
        "      if corr.iloc[i,j]>0.85:\n",
        "        x.append(corr.columns[j])\n",
        "        x.append(corr.columns[i])\n",
        "  DataSet=DataSet.drop(set(x),axis=1)\n",
        "  return(DataSet)"
      ],
      "execution_count": 11,
      "outputs": []
    },
    {
      "cell_type": "code",
      "metadata": {
        "id": "KPMJttOvwjlY",
        "colab_type": "code",
        "colab": {
          "base_uri": "https://localhost:8080/",
          "height": 419
        },
        "outputId": "e623bae8-dbc3-4d9f-bd81-6199263e1460"
      },
      "source": [
        "Data=pd.read_csv(\"/content/sample_data/california_housing_test.csv\")\n",
        "Corrln(Data)\n"
      ],
      "execution_count": 12,
      "outputs": [
        {
          "output_type": "execute_result",
          "data": {
            "text/html": [
              "<div>\n",
              "<style scoped>\n",
              "    .dataframe tbody tr th:only-of-type {\n",
              "        vertical-align: middle;\n",
              "    }\n",
              "\n",
              "    .dataframe tbody tr th {\n",
              "        vertical-align: top;\n",
              "    }\n",
              "\n",
              "    .dataframe thead th {\n",
              "        text-align: right;\n",
              "    }\n",
              "</style>\n",
              "<table border=\"1\" class=\"dataframe\">\n",
              "  <thead>\n",
              "    <tr style=\"text-align: right;\">\n",
              "      <th></th>\n",
              "      <th>longitude</th>\n",
              "      <th>latitude</th>\n",
              "      <th>housing_median_age</th>\n",
              "      <th>median_income</th>\n",
              "      <th>median_house_value</th>\n",
              "    </tr>\n",
              "  </thead>\n",
              "  <tbody>\n",
              "    <tr>\n",
              "      <th>0</th>\n",
              "      <td>-122.05</td>\n",
              "      <td>37.37</td>\n",
              "      <td>27.0</td>\n",
              "      <td>6.6085</td>\n",
              "      <td>344700.0</td>\n",
              "    </tr>\n",
              "    <tr>\n",
              "      <th>1</th>\n",
              "      <td>-118.30</td>\n",
              "      <td>34.26</td>\n",
              "      <td>43.0</td>\n",
              "      <td>3.5990</td>\n",
              "      <td>176500.0</td>\n",
              "    </tr>\n",
              "    <tr>\n",
              "      <th>2</th>\n",
              "      <td>-117.81</td>\n",
              "      <td>33.78</td>\n",
              "      <td>27.0</td>\n",
              "      <td>5.7934</td>\n",
              "      <td>270500.0</td>\n",
              "    </tr>\n",
              "    <tr>\n",
              "      <th>3</th>\n",
              "      <td>-118.36</td>\n",
              "      <td>33.82</td>\n",
              "      <td>28.0</td>\n",
              "      <td>6.1359</td>\n",
              "      <td>330000.0</td>\n",
              "    </tr>\n",
              "    <tr>\n",
              "      <th>4</th>\n",
              "      <td>-119.67</td>\n",
              "      <td>36.33</td>\n",
              "      <td>19.0</td>\n",
              "      <td>2.9375</td>\n",
              "      <td>81700.0</td>\n",
              "    </tr>\n",
              "    <tr>\n",
              "      <th>...</th>\n",
              "      <td>...</td>\n",
              "      <td>...</td>\n",
              "      <td>...</td>\n",
              "      <td>...</td>\n",
              "      <td>...</td>\n",
              "    </tr>\n",
              "    <tr>\n",
              "      <th>2995</th>\n",
              "      <td>-119.86</td>\n",
              "      <td>34.42</td>\n",
              "      <td>23.0</td>\n",
              "      <td>1.1790</td>\n",
              "      <td>225000.0</td>\n",
              "    </tr>\n",
              "    <tr>\n",
              "      <th>2996</th>\n",
              "      <td>-118.14</td>\n",
              "      <td>34.06</td>\n",
              "      <td>27.0</td>\n",
              "      <td>3.3906</td>\n",
              "      <td>237200.0</td>\n",
              "    </tr>\n",
              "    <tr>\n",
              "      <th>2997</th>\n",
              "      <td>-119.70</td>\n",
              "      <td>36.30</td>\n",
              "      <td>10.0</td>\n",
              "      <td>2.2895</td>\n",
              "      <td>62000.0</td>\n",
              "    </tr>\n",
              "    <tr>\n",
              "      <th>2998</th>\n",
              "      <td>-117.12</td>\n",
              "      <td>34.10</td>\n",
              "      <td>40.0</td>\n",
              "      <td>3.2708</td>\n",
              "      <td>162500.0</td>\n",
              "    </tr>\n",
              "    <tr>\n",
              "      <th>2999</th>\n",
              "      <td>-119.63</td>\n",
              "      <td>34.42</td>\n",
              "      <td>42.0</td>\n",
              "      <td>8.5608</td>\n",
              "      <td>500001.0</td>\n",
              "    </tr>\n",
              "  </tbody>\n",
              "</table>\n",
              "<p>3000 rows × 5 columns</p>\n",
              "</div>"
            ],
            "text/plain": [
              "      longitude  latitude  ...  median_income  median_house_value\n",
              "0       -122.05     37.37  ...         6.6085            344700.0\n",
              "1       -118.30     34.26  ...         3.5990            176500.0\n",
              "2       -117.81     33.78  ...         5.7934            270500.0\n",
              "3       -118.36     33.82  ...         6.1359            330000.0\n",
              "4       -119.67     36.33  ...         2.9375             81700.0\n",
              "...         ...       ...  ...            ...                 ...\n",
              "2995    -119.86     34.42  ...         1.1790            225000.0\n",
              "2996    -118.14     34.06  ...         3.3906            237200.0\n",
              "2997    -119.70     36.30  ...         2.2895             62000.0\n",
              "2998    -117.12     34.10  ...         3.2708            162500.0\n",
              "2999    -119.63     34.42  ...         8.5608            500001.0\n",
              "\n",
              "[3000 rows x 5 columns]"
            ]
          },
          "metadata": {
            "tags": []
          },
          "execution_count": 12
        }
      ]
    },
    {
      "cell_type": "markdown",
      "metadata": {
        "id": "pmWcE4mbo64i",
        "colab_type": "text"
      },
      "source": [
        "***Task 3.1***\n",
        "\n",
        "  -Training data used to build ML model and testing data represents real life data which validates model.\n",
        "\n",
        "\n",
        "  -As the test set is there only for performance assessment model, it should not be used in any stage of model building, including imputation , feature selection, normalization,etc.\n",
        "\n",
        "  *Thus you should do preprocessing before train-test split or do it on train data first*\n",
        "\n"
      ]
    },
    {
      "cell_type": "markdown",
      "metadata": {
        "id": "_0n77ST964aw",
        "colab_type": "text"
      },
      "source": [
        "***Task 4.1***\n",
        "\n",
        "**How to Speed up Your Python Code**\n",
        "\n",
        "1. Optimization:\n",
        "      Reuse objects,Reduce the number of iterations and Avoid recursion.\n",
        "\n",
        "2. Use builtin functions and libraries.\n",
        "\n",
        "3. Vectorize your Functions, use numpy\n",
        "\n",
        "4. Try to use multiprocessing\n",
        "\n"
      ]
    },
    {
      "cell_type": "code",
      "metadata": {
        "id": "VobDfmnHAesF",
        "colab_type": "code",
        "colab": {}
      },
      "source": [
        "d = {'name':['bob','john','uyt','tr','yg'],'address':['123 6th Street,Sterling VA 20165-7513','567 7th Street, Wilmington NC 28411','57 7th Street, Wilmington NC 28411-9765','567 7th Street, Wilmington NC 28001','123 6th Street,zip-20165-7511, Sterling VA ']}\n",
        "df = pd.DataFrame(d)"
      ],
      "execution_count": 13,
      "outputs": []
    },
    {
      "cell_type": "code",
      "metadata": {
        "id": "PZpoGHACAgzX",
        "colab_type": "code",
        "colab": {
          "base_uri": "https://localhost:8080/",
          "height": 68
        },
        "outputId": "f8f4b98b-21bc-4a59-862e-dba4844e714c"
      },
      "source": [
        "df.dtypes"
      ],
      "execution_count": 14,
      "outputs": [
        {
          "output_type": "execute_result",
          "data": {
            "text/plain": [
              "name       object\n",
              "address    object\n",
              "dtype: object"
            ]
          },
          "metadata": {
            "tags": []
          },
          "execution_count": 14
        }
      ]
    },
    {
      "cell_type": "code",
      "metadata": {
        "id": "IBbt3SHxD9dL",
        "colab_type": "code",
        "colab": {}
      },
      "source": [
        "#Task 5.1\n",
        "def ZipCode(DataSet):\n",
        "  addr_cols = [col for col in df.columns if 'address' in col]\n",
        "  for i in addr_cols:\n",
        "    DataSet['zip-'+i] = df[i].str.extract(r'(\\d{5}\\-?\\d{0,4})')\n",
        "    df['zip-'+i]=df['zip-'+i].str.extract(r'(\\d{5})')\n",
        "\n",
        "  return(DataSet)\n"
      ],
      "execution_count": 15,
      "outputs": []
    },
    {
      "cell_type": "code",
      "metadata": {
        "id": "EIhVi--7Emf9",
        "colab_type": "code",
        "colab": {
          "base_uri": "https://localhost:8080/",
          "height": 204
        },
        "outputId": "49f01649-5d7e-4f12-a3e9-c606c17e5eaf"
      },
      "source": [
        "ZipCode(df)"
      ],
      "execution_count": 16,
      "outputs": [
        {
          "output_type": "execute_result",
          "data": {
            "text/html": [
              "<div>\n",
              "<style scoped>\n",
              "    .dataframe tbody tr th:only-of-type {\n",
              "        vertical-align: middle;\n",
              "    }\n",
              "\n",
              "    .dataframe tbody tr th {\n",
              "        vertical-align: top;\n",
              "    }\n",
              "\n",
              "    .dataframe thead th {\n",
              "        text-align: right;\n",
              "    }\n",
              "</style>\n",
              "<table border=\"1\" class=\"dataframe\">\n",
              "  <thead>\n",
              "    <tr style=\"text-align: right;\">\n",
              "      <th></th>\n",
              "      <th>name</th>\n",
              "      <th>address</th>\n",
              "      <th>zip-address</th>\n",
              "    </tr>\n",
              "  </thead>\n",
              "  <tbody>\n",
              "    <tr>\n",
              "      <th>0</th>\n",
              "      <td>bob</td>\n",
              "      <td>123 6th Street,Sterling VA 20165-7513</td>\n",
              "      <td>20165</td>\n",
              "    </tr>\n",
              "    <tr>\n",
              "      <th>1</th>\n",
              "      <td>john</td>\n",
              "      <td>567 7th Street, Wilmington NC 28411</td>\n",
              "      <td>28411</td>\n",
              "    </tr>\n",
              "    <tr>\n",
              "      <th>2</th>\n",
              "      <td>uyt</td>\n",
              "      <td>57 7th Street, Wilmington NC 28411-9765</td>\n",
              "      <td>28411</td>\n",
              "    </tr>\n",
              "    <tr>\n",
              "      <th>3</th>\n",
              "      <td>tr</td>\n",
              "      <td>567 7th Street, Wilmington NC 28001</td>\n",
              "      <td>28001</td>\n",
              "    </tr>\n",
              "    <tr>\n",
              "      <th>4</th>\n",
              "      <td>yg</td>\n",
              "      <td>123 6th Street,zip-20165-7511, Sterling VA</td>\n",
              "      <td>20165</td>\n",
              "    </tr>\n",
              "  </tbody>\n",
              "</table>\n",
              "</div>"
            ],
            "text/plain": [
              "   name                                      address zip-address\n",
              "0   bob        123 6th Street,Sterling VA 20165-7513       20165\n",
              "1  john          567 7th Street, Wilmington NC 28411       28411\n",
              "2   uyt      57 7th Street, Wilmington NC 28411-9765       28411\n",
              "3    tr          567 7th Street, Wilmington NC 28001       28001\n",
              "4    yg  123 6th Street,zip-20165-7511, Sterling VA        20165"
            ]
          },
          "metadata": {
            "tags": []
          },
          "execution_count": 16
        }
      ]
    },
    {
      "cell_type": "code",
      "metadata": {
        "id": "nNm0-VMOvFC-",
        "colab_type": "code",
        "colab": {
          "base_uri": "https://localhost:8080/",
          "height": 173
        },
        "outputId": "119cfa80-ec17-4833-8794-86c09d4a4d3a"
      },
      "source": [
        "data = [{'one': '3', 'two': 'two raods'}, \n",
        "         {'one': '7', 'two': 'diverrged in a yullow'}, \n",
        "        {'one': '8', 'two': 'waod and surry I'}, \n",
        "        {'one': '9', 'two': 'culd not travl bouth'}]\n",
        "df = pd.DataFrame(data)\n",
        "df"
      ],
      "execution_count": 17,
      "outputs": [
        {
          "output_type": "execute_result",
          "data": {
            "text/html": [
              "<div>\n",
              "<style scoped>\n",
              "    .dataframe tbody tr th:only-of-type {\n",
              "        vertical-align: middle;\n",
              "    }\n",
              "\n",
              "    .dataframe tbody tr th {\n",
              "        vertical-align: top;\n",
              "    }\n",
              "\n",
              "    .dataframe thead th {\n",
              "        text-align: right;\n",
              "    }\n",
              "</style>\n",
              "<table border=\"1\" class=\"dataframe\">\n",
              "  <thead>\n",
              "    <tr style=\"text-align: right;\">\n",
              "      <th></th>\n",
              "      <th>one</th>\n",
              "      <th>two</th>\n",
              "    </tr>\n",
              "  </thead>\n",
              "  <tbody>\n",
              "    <tr>\n",
              "      <th>0</th>\n",
              "      <td>3</td>\n",
              "      <td>two raods</td>\n",
              "    </tr>\n",
              "    <tr>\n",
              "      <th>1</th>\n",
              "      <td>7</td>\n",
              "      <td>diverrged in a yullow</td>\n",
              "    </tr>\n",
              "    <tr>\n",
              "      <th>2</th>\n",
              "      <td>8</td>\n",
              "      <td>waod and surry I</td>\n",
              "    </tr>\n",
              "    <tr>\n",
              "      <th>3</th>\n",
              "      <td>9</td>\n",
              "      <td>culd not travl bouth</td>\n",
              "    </tr>\n",
              "  </tbody>\n",
              "</table>\n",
              "</div>"
            ],
            "text/plain": [
              "  one                    two\n",
              "0   3              two raods\n",
              "1   7  diverrged in a yullow\n",
              "2   8       waod and surry I\n",
              "3   9   culd not travl bouth"
            ]
          },
          "metadata": {
            "tags": []
          },
          "execution_count": 17
        }
      ]
    },
    {
      "cell_type": "code",
      "metadata": {
        "id": "4nJN8NVyw3LQ",
        "colab_type": "code",
        "colab": {}
      },
      "source": [
        "#Task 6.1\n",
        "\n",
        "from textblob import TextBlob\n",
        "def typo(DataSet):\n",
        "  addr_cols = [col for col in df.columns if 'address' in col]\n",
        "  for i in addr_cols:\n",
        "    DataSet[i] = DataSet[i].apply(lambda txt: ''.join(textblob.TextBlob(txt).correct()))\n",
        "  return(DataSet)"
      ],
      "execution_count": 18,
      "outputs": []
    }
  ]
}