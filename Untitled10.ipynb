{
  "nbformat": 4,
  "nbformat_minor": 0,
  "metadata": {
    "colab": {
      "name": "Untitled10.ipynb",
      "provenance": [],
      "authorship_tag": "ABX9TyN55ftm1xGzWQbZqKnMjT5v",
      "include_colab_link": true
    },
    "kernelspec": {
      "name": "python3",
      "display_name": "Python 3"
    }
  },
  "cells": [
    {
      "cell_type": "markdown",
      "metadata": {
        "id": "view-in-github",
        "colab_type": "text"
      },
      "source": [
        "<a href=\"https://colab.research.google.com/github/RushiG02/ML/blob/master/Untitled10.ipynb\" target=\"_parent\"><img src=\"https://colab.research.google.com/assets/colab-badge.svg\" alt=\"Open In Colab\"/></a>"
      ]
    },
    {
      "cell_type": "code",
      "metadata": {
        "id": "qPs2fP5lzEFV",
        "colab_type": "code",
        "outputId": "2b3910d1-9e8f-4d40-dc50-584eab847fce",
        "colab": {
          "base_uri": "https://localhost:8080/",
          "height": 425
        }
      },
      "source": [
        "import numpy as np\n",
        "import pandas as pd\n",
        "from google.colab import files\n",
        "data1=pd.read_csv('https://data.open-power-system-data.org/time_series/2019-06-05/time_series_60min_singleindex.csv')\n",
        "data2 = data1.truncate(before = '70130')\n",
        "data=data2[['utc_timestamp', 'cet_cest_timestamp','FR_load_actual_tso','FR_load_forecast_tso','FR_solar_generation_actual','FR_wind_onshore_generation_actual']]\n",
        "data.fillna(data.mean(), inplace=True)\n",
        "data.to_csv('d.csv')\n",
        "files.download(\"d.csv\")\n"
      ],
      "execution_count": 24,
      "outputs": [
        {
          "output_type": "stream",
          "text": [
            "/usr/local/lib/python3.6/dist-packages/pandas/core/generic.py:6287: SettingWithCopyWarning: \n",
            "A value is trying to be set on a copy of a slice from a DataFrame\n",
            "\n",
            "See the caveats in the documentation: http://pandas.pydata.org/pandas-docs/stable/user_guide/indexing.html#returning-a-view-versus-a-copy\n",
            "  self._update_inplace(new_data)\n"
          ],
          "name": "stderr"
        },
        {
          "output_type": "error",
          "ename": "MessageError",
          "evalue": "ignored",
          "traceback": [
            "\u001b[0;31m---------------------------------------------------------------------------\u001b[0m",
            "\u001b[0;31mMessageError\u001b[0m                              Traceback (most recent call last)",
            "\u001b[0;32m<ipython-input-24-d6f4c98ac985>\u001b[0m in \u001b[0;36m<module>\u001b[0;34m()\u001b[0m\n\u001b[1;32m      7\u001b[0m \u001b[0mdata\u001b[0m\u001b[0;34m.\u001b[0m\u001b[0mfillna\u001b[0m\u001b[0;34m(\u001b[0m\u001b[0mdata\u001b[0m\u001b[0;34m.\u001b[0m\u001b[0mmean\u001b[0m\u001b[0;34m(\u001b[0m\u001b[0;34m)\u001b[0m\u001b[0;34m,\u001b[0m \u001b[0minplace\u001b[0m\u001b[0;34m=\u001b[0m\u001b[0;32mTrue\u001b[0m\u001b[0;34m)\u001b[0m\u001b[0;34m\u001b[0m\u001b[0;34m\u001b[0m\u001b[0m\n\u001b[1;32m      8\u001b[0m \u001b[0mdata\u001b[0m\u001b[0;34m.\u001b[0m\u001b[0mto_csv\u001b[0m\u001b[0;34m(\u001b[0m\u001b[0;34m'd.csv'\u001b[0m\u001b[0;34m)\u001b[0m\u001b[0;34m\u001b[0m\u001b[0;34m\u001b[0m\u001b[0m\n\u001b[0;32m----> 9\u001b[0;31m \u001b[0mfiles\u001b[0m\u001b[0;34m.\u001b[0m\u001b[0mdownload\u001b[0m\u001b[0;34m(\u001b[0m\u001b[0;34m\"d.csv\"\u001b[0m\u001b[0;34m)\u001b[0m\u001b[0;34m\u001b[0m\u001b[0;34m\u001b[0m\u001b[0m\n\u001b[0m",
            "\u001b[0;32m/usr/local/lib/python3.6/dist-packages/google/colab/files.py\u001b[0m in \u001b[0;36mdownload\u001b[0;34m(filename)\u001b[0m\n\u001b[1;32m    176\u001b[0m       \u001b[0;34m'port'\u001b[0m\u001b[0;34m:\u001b[0m \u001b[0mport\u001b[0m\u001b[0;34m,\u001b[0m\u001b[0;34m\u001b[0m\u001b[0;34m\u001b[0m\u001b[0m\n\u001b[1;32m    177\u001b[0m       \u001b[0;34m'path'\u001b[0m\u001b[0;34m:\u001b[0m \u001b[0m_os\u001b[0m\u001b[0;34m.\u001b[0m\u001b[0mpath\u001b[0m\u001b[0;34m.\u001b[0m\u001b[0mabspath\u001b[0m\u001b[0;34m(\u001b[0m\u001b[0mfilename\u001b[0m\u001b[0;34m)\u001b[0m\u001b[0;34m,\u001b[0m\u001b[0;34m\u001b[0m\u001b[0;34m\u001b[0m\u001b[0m\n\u001b[0;32m--> 178\u001b[0;31m       \u001b[0;34m'name'\u001b[0m\u001b[0;34m:\u001b[0m \u001b[0m_os\u001b[0m\u001b[0;34m.\u001b[0m\u001b[0mpath\u001b[0m\u001b[0;34m.\u001b[0m\u001b[0mbasename\u001b[0m\u001b[0;34m(\u001b[0m\u001b[0mfilename\u001b[0m\u001b[0;34m)\u001b[0m\u001b[0;34m,\u001b[0m\u001b[0;34m\u001b[0m\u001b[0;34m\u001b[0m\u001b[0m\n\u001b[0m\u001b[1;32m    179\u001b[0m   })\n",
            "\u001b[0;32m/usr/local/lib/python3.6/dist-packages/google/colab/output/_js.py\u001b[0m in \u001b[0;36meval_js\u001b[0;34m(script, ignore_result)\u001b[0m\n\u001b[1;32m     37\u001b[0m   \u001b[0;32mif\u001b[0m \u001b[0mignore_result\u001b[0m\u001b[0;34m:\u001b[0m\u001b[0;34m\u001b[0m\u001b[0;34m\u001b[0m\u001b[0m\n\u001b[1;32m     38\u001b[0m     \u001b[0;32mreturn\u001b[0m\u001b[0;34m\u001b[0m\u001b[0;34m\u001b[0m\u001b[0m\n\u001b[0;32m---> 39\u001b[0;31m   \u001b[0;32mreturn\u001b[0m \u001b[0m_message\u001b[0m\u001b[0;34m.\u001b[0m\u001b[0mread_reply_from_input\u001b[0m\u001b[0;34m(\u001b[0m\u001b[0mrequest_id\u001b[0m\u001b[0;34m)\u001b[0m\u001b[0;34m\u001b[0m\u001b[0;34m\u001b[0m\u001b[0m\n\u001b[0m\u001b[1;32m     40\u001b[0m \u001b[0;34m\u001b[0m\u001b[0m\n\u001b[1;32m     41\u001b[0m \u001b[0;34m\u001b[0m\u001b[0m\n",
            "\u001b[0;32m/usr/local/lib/python3.6/dist-packages/google/colab/_message.py\u001b[0m in \u001b[0;36mread_reply_from_input\u001b[0;34m(message_id, timeout_sec)\u001b[0m\n\u001b[1;32m    104\u001b[0m         reply.get('colab_msg_id') == message_id):\n\u001b[1;32m    105\u001b[0m       \u001b[0;32mif\u001b[0m \u001b[0;34m'error'\u001b[0m \u001b[0;32min\u001b[0m \u001b[0mreply\u001b[0m\u001b[0;34m:\u001b[0m\u001b[0;34m\u001b[0m\u001b[0;34m\u001b[0m\u001b[0m\n\u001b[0;32m--> 106\u001b[0;31m         \u001b[0;32mraise\u001b[0m \u001b[0mMessageError\u001b[0m\u001b[0;34m(\u001b[0m\u001b[0mreply\u001b[0m\u001b[0;34m[\u001b[0m\u001b[0;34m'error'\u001b[0m\u001b[0;34m]\u001b[0m\u001b[0;34m)\u001b[0m\u001b[0;34m\u001b[0m\u001b[0;34m\u001b[0m\u001b[0m\n\u001b[0m\u001b[1;32m    107\u001b[0m       \u001b[0;32mreturn\u001b[0m \u001b[0mreply\u001b[0m\u001b[0;34m.\u001b[0m\u001b[0mget\u001b[0m\u001b[0;34m(\u001b[0m\u001b[0;34m'data'\u001b[0m\u001b[0;34m,\u001b[0m \u001b[0;32mNone\u001b[0m\u001b[0;34m)\u001b[0m\u001b[0;34m\u001b[0m\u001b[0;34m\u001b[0m\u001b[0m\n\u001b[1;32m    108\u001b[0m \u001b[0;34m\u001b[0m\u001b[0m\n",
            "\u001b[0;31mMessageError\u001b[0m: TypeError: Failed to fetch"
          ]
        }
      ]
    },
    {
      "cell_type": "code",
      "metadata": {
        "id": "pQxldHbQiBSE",
        "colab_type": "code",
        "colab": {
          "base_uri": "https://localhost:8080/",
          "height": 504
        },
        "outputId": "de7e30b6-f275-4402-e41b-0ecd41f5736a"
      },
      "source": [
        "import numpy as np\n",
        "import pandas as pd\n",
        "\n",
        "data1=pd.read_csv('https://data.open-power-system-data.org/time_series/2019-06-05/time_series_60min_singleindex.csv')\n",
        "data2 = data1.truncate(before = '70130')\n",
        "data=data2[['utc_timestamp', 'cet_cest_timestamp','FR_load_actual_tso','FR_load_forecast_tso','FR_solar_generation_actual','FR_wind_onshore_generation_actual']]\n",
        "data.fillna(data.mean(), inplace=True)\n",
        "data"
      ],
      "execution_count": 19,
      "outputs": [
        {
          "output_type": "stream",
          "text": [
            "/usr/local/lib/python3.6/dist-packages/pandas/core/generic.py:6287: SettingWithCopyWarning: \n",
            "A value is trying to be set on a copy of a slice from a DataFrame\n",
            "\n",
            "See the caveats in the documentation: http://pandas.pydata.org/pandas-docs/stable/user_guide/indexing.html#returning-a-view-versus-a-copy\n",
            "  self._update_inplace(new_data)\n"
          ],
          "name": "stderr"
        },
        {
          "output_type": "execute_result",
          "data": {
            "text/html": [
              "<div>\n",
              "<style scoped>\n",
              "    .dataframe tbody tr th:only-of-type {\n",
              "        vertical-align: middle;\n",
              "    }\n",
              "\n",
              "    .dataframe tbody tr th {\n",
              "        vertical-align: top;\n",
              "    }\n",
              "\n",
              "    .dataframe thead th {\n",
              "        text-align: right;\n",
              "    }\n",
              "</style>\n",
              "<table border=\"1\" class=\"dataframe\">\n",
              "  <thead>\n",
              "    <tr style=\"text-align: right;\">\n",
              "      <th></th>\n",
              "      <th>utc_timestamp</th>\n",
              "      <th>cet_cest_timestamp</th>\n",
              "      <th>FR_load_actual_tso</th>\n",
              "      <th>FR_load_forecast_tso</th>\n",
              "      <th>FR_solar_generation_actual</th>\n",
              "      <th>FR_wind_onshore_generation_actual</th>\n",
              "    </tr>\n",
              "  </thead>\n",
              "  <tbody>\n",
              "    <tr>\n",
              "      <th>70130</th>\n",
              "      <td>2013-01-01T01:00:00Z</td>\n",
              "      <td>2013-01-01T02:00:00+0100</td>\n",
              "      <td>56952.000000</td>\n",
              "      <td>57000.000000</td>\n",
              "      <td>0.000000</td>\n",
              "      <td>3864.000000</td>\n",
              "    </tr>\n",
              "    <tr>\n",
              "      <th>70131</th>\n",
              "      <td>2013-01-01T02:00:00Z</td>\n",
              "      <td>2013-01-01T03:00:00+0100</td>\n",
              "      <td>53508.000000</td>\n",
              "      <td>54050.000000</td>\n",
              "      <td>0.000000</td>\n",
              "      <td>3625.000000</td>\n",
              "    </tr>\n",
              "    <tr>\n",
              "      <th>70132</th>\n",
              "      <td>2013-01-01T03:00:00Z</td>\n",
              "      <td>2013-01-01T04:00:00+0100</td>\n",
              "      <td>50328.000000</td>\n",
              "      <td>51250.000000</td>\n",
              "      <td>0.000000</td>\n",
              "      <td>3564.000000</td>\n",
              "    </tr>\n",
              "    <tr>\n",
              "      <th>70133</th>\n",
              "      <td>2013-01-01T04:00:00Z</td>\n",
              "      <td>2013-01-01T05:00:00+0100</td>\n",
              "      <td>49030.000000</td>\n",
              "      <td>49750.000000</td>\n",
              "      <td>0.000000</td>\n",
              "      <td>3452.000000</td>\n",
              "    </tr>\n",
              "    <tr>\n",
              "      <th>70134</th>\n",
              "      <td>2013-01-01T05:00:00Z</td>\n",
              "      <td>2013-01-01T06:00:00+0100</td>\n",
              "      <td>48778.000000</td>\n",
              "      <td>49150.000000</td>\n",
              "      <td>0.000000</td>\n",
              "      <td>3363.000000</td>\n",
              "    </tr>\n",
              "    <tr>\n",
              "      <th>...</th>\n",
              "      <td>...</td>\n",
              "      <td>...</td>\n",
              "      <td>...</td>\n",
              "      <td>...</td>\n",
              "      <td>...</td>\n",
              "      <td>...</td>\n",
              "    </tr>\n",
              "    <tr>\n",
              "      <th>125588</th>\n",
              "      <td>2019-04-30T19:00:00Z</td>\n",
              "      <td>2019-04-30T21:00:00+0200</td>\n",
              "      <td>54865.952741</td>\n",
              "      <td>54537.700243</td>\n",
              "      <td>865.011746</td>\n",
              "      <td>2500.933414</td>\n",
              "    </tr>\n",
              "    <tr>\n",
              "      <th>125589</th>\n",
              "      <td>2019-04-30T20:00:00Z</td>\n",
              "      <td>2019-04-30T22:00:00+0200</td>\n",
              "      <td>54865.952741</td>\n",
              "      <td>54537.700243</td>\n",
              "      <td>865.011746</td>\n",
              "      <td>2500.933414</td>\n",
              "    </tr>\n",
              "    <tr>\n",
              "      <th>125590</th>\n",
              "      <td>2019-04-30T21:00:00Z</td>\n",
              "      <td>2019-04-30T23:00:00+0200</td>\n",
              "      <td>54865.952741</td>\n",
              "      <td>54537.700243</td>\n",
              "      <td>865.011746</td>\n",
              "      <td>2500.933414</td>\n",
              "    </tr>\n",
              "    <tr>\n",
              "      <th>125591</th>\n",
              "      <td>2019-04-30T22:00:00Z</td>\n",
              "      <td>2019-05-01T00:00:00+0200</td>\n",
              "      <td>54865.952741</td>\n",
              "      <td>54537.700243</td>\n",
              "      <td>865.011746</td>\n",
              "      <td>2500.933414</td>\n",
              "    </tr>\n",
              "    <tr>\n",
              "      <th>125592</th>\n",
              "      <td>2019-04-30T23:00:00Z</td>\n",
              "      <td>2019-05-01T01:00:00+0200</td>\n",
              "      <td>54865.952741</td>\n",
              "      <td>54537.700243</td>\n",
              "      <td>865.011746</td>\n",
              "      <td>2500.933414</td>\n",
              "    </tr>\n",
              "  </tbody>\n",
              "</table>\n",
              "<p>55463 rows × 6 columns</p>\n",
              "</div>"
            ],
            "text/plain": [
              "               utc_timestamp  ... FR_wind_onshore_generation_actual\n",
              "70130   2013-01-01T01:00:00Z  ...                       3864.000000\n",
              "70131   2013-01-01T02:00:00Z  ...                       3625.000000\n",
              "70132   2013-01-01T03:00:00Z  ...                       3564.000000\n",
              "70133   2013-01-01T04:00:00Z  ...                       3452.000000\n",
              "70134   2013-01-01T05:00:00Z  ...                       3363.000000\n",
              "...                      ...  ...                               ...\n",
              "125588  2019-04-30T19:00:00Z  ...                       2500.933414\n",
              "125589  2019-04-30T20:00:00Z  ...                       2500.933414\n",
              "125590  2019-04-30T21:00:00Z  ...                       2500.933414\n",
              "125591  2019-04-30T22:00:00Z  ...                       2500.933414\n",
              "125592  2019-04-30T23:00:00Z  ...                       2500.933414\n",
              "\n",
              "[55463 rows x 6 columns]"
            ]
          },
          "metadata": {
            "tags": []
          },
          "execution_count": 19
        }
      ]
    }
  ]
}