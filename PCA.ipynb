{
  "nbformat": 4,
  "nbformat_minor": 0,
  "metadata": {
    "kernelspec": {
      "display_name": "Python 3",
      "language": "python",
      "name": "python3"
    },
    "language_info": {
      "codemirror_mode": {
        "name": "ipython",
        "version": 3
      },
      "file_extension": ".py",
      "mimetype": "text/x-python",
      "name": "python",
      "nbconvert_exporter": "python",
      "pygments_lexer": "ipython3",
      "version": "3.7.3"
    },
    "colab": {
      "name": "PCA.ipynb",
      "provenance": [],
      "include_colab_link": true
    }
  },
  "cells": [
    {
      "cell_type": "markdown",
      "metadata": {
        "id": "view-in-github",
        "colab_type": "text"
      },
      "source": [
        "<a href=\"https://colab.research.google.com/github/RushiG02/ML/blob/master/PCA.ipynb\" target=\"_parent\"><img src=\"https://colab.research.google.com/assets/colab-badge.svg\" alt=\"Open In Colab\"/></a>"
      ]
    },
    {
      "cell_type": "code",
      "metadata": {
        "id": "s5GkgTWQEmfV",
        "colab_type": "code",
        "colab": {}
      },
      "source": [
        "import numpy as np\n",
        "import pandas as pd\n",
        "iris=pd.read_csv('https://gist.githubusercontent.com/curran/a08a1080b88344b0c8a7/raw/639388c2cbc2120a14dcf466e85730eb8be498bb/iris.csv')"
      ],
      "execution_count": 0,
      "outputs": []
    },
    {
      "cell_type": "code",
      "metadata": {
        "id": "SbtjiddJEmfo",
        "colab_type": "code",
        "colab": {},
        "outputId": "9ee75d78-17bb-4512-b319-00b68e41b25c"
      },
      "source": [
        "m=np.array(iris.mean())\n",
        "data=np.array(iris)\n",
        "X=np.delete(data, -1, 1)\n",
        "l=[]\n",
        "for i in range(X.shape[0]):\n",
        "    a=X[i]-m\n",
        "    l.append(a)\n",
        "A=np.array(l).astype('float')\n",
        "s=np.array((1/150)*(np.transpose(A).dot(A)))\n",
        "eig_val,eig_vec=np.linalg.eig(s)\n",
        "eig_val,eig_vec"
      ],
      "execution_count": 0,
      "outputs": [
        {
          "output_type": "execute_result",
          "data": {
            "text/plain": [
              "(array([4.19667516, 0.24062861, 0.07800042, 0.02352514]),\n",
              " array([[ 0.36158968, -0.65653988, -0.58099728,  0.31725455],\n",
              "        [-0.08226889, -0.72971237,  0.59641809, -0.32409435],\n",
              "        [ 0.85657211,  0.1757674 ,  0.07252408, -0.47971899],\n",
              "        [ 0.35884393,  0.07470647,  0.54906091,  0.75112056]]))"
            ]
          },
          "metadata": {
            "tags": []
          },
          "execution_count": 128
        }
      ]
    },
    {
      "cell_type": "code",
      "metadata": {
        "id": "bjDC2728Emf2",
        "colab_type": "code",
        "colab": {}
      },
      "source": [
        ""
      ],
      "execution_count": 0,
      "outputs": []
    }
  ]
}