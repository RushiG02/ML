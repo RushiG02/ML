{
  "nbformat": 4,
  "nbformat_minor": 0,
  "metadata": {
    "colab": {
      "name": "Untitled8.ipynb",
      "provenance": [],
      "include_colab_link": true
    },
    "kernelspec": {
      "name": "python3",
      "display_name": "Python 3"
    }
  },
  "cells": [
    {
      "cell_type": "markdown",
      "metadata": {
        "id": "view-in-github",
        "colab_type": "text"
      },
      "source": [
        "<a href=\"https://colab.research.google.com/github/RushiG02/ML/blob/master/linearreg.ipynb\" target=\"_parent\"><img src=\"https://colab.research.google.com/assets/colab-badge.svg\" alt=\"Open In Colab\"/></a>"
      ]
    },
    {
      "cell_type": "code",
      "metadata": {
        "id": "9__fopD06vUi",
        "colab_type": "code",
        "outputId": "4cefe111-9a69-4987-dac4-24a863aca274",
        "colab": {
          "base_uri": "https://localhost:8080/",
          "height": 34
        }
      },
      "source": [
        "import numpy as np\n",
        "import pandas as pd\n",
        "m,c,lr,epoch=0,0,0.001,100000\n",
        "url='https://raw.githubusercontent.com/RushiG02/ML/master/ex.csv'\n",
        "data= pd.read_csv(url)\n",
        "marks=np.array(data)\n",
        "x1=marks[:,:2]\n",
        "x = np.insert(x1, 0, 1,axis = 1)\n",
        "y=marks[:,-1]\n",
        "#b=np.dot(np.dot(np.linalg.inv(np.dot(x.T,x)),x.T),y)\n",
        "\n",
        "b=np.array([0.2,0.1,0])\n",
        "m=np.size(x,0)\n",
        "for i in range(epoch):\n",
        "  h=np.dot(b,x.T)\n",
        "  p=(1/m)*np.sum((h-y).dot(x[:,:1]))\n",
        "  q=(1/m)*np.sum((h-y).dot(x[:,1:2]))\n",
        "  r=(1/m)*np.sum((h-y).dot(x[:,2:3]))\n",
        "  b[0]=b[0]-lr*p\n",
        "  b[1]=b[1]-lr*q\n",
        "  b[2]=b[2]-lr*r\n",
        "\n",
        "print(b[0]+b[1]*3+b[2]*7)"
      ],
      "execution_count": 61,
      "outputs": [
        {
          "output_type": "stream",
          "text": [
            "36.24556907255047\n"
          ],
          "name": "stdout"
        }
      ]
    },
    {
      "cell_type": "code",
      "metadata": {
        "id": "eMd8Rj4t-Yxh",
        "colab_type": "code",
        "colab": {}
      },
      "source": [
        ""
      ],
      "execution_count": 0,
      "outputs": []
    }
  ]
}