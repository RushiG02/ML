{
  "nbformat": 4,
  "nbformat_minor": 0,
  "metadata": {
    "colab": {
      "name": "Untitled2.ipynb",
      "provenance": [],
      "collapsed_sections": [],
      "include_colab_link": true
    },
    "kernelspec": {
      "name": "python3",
      "display_name": "Python 3"
    }
  },
  "cells": [
    {
      "cell_type": "markdown",
      "metadata": {
        "id": "view-in-github",
        "colab_type": "text"
      },
      "source": [
        "<a href=\"https://colab.research.google.com/github/RushiG02/ML/blob/master/working_with_dataset.ipynb\" target=\"_parent\"><img src=\"https://colab.research.google.com/assets/colab-badge.svg\" alt=\"Open In Colab\"/></a>"
      ]
    },
    {
      "cell_type": "code",
      "metadata": {
        "id": "Wq5U7ZIOvmI1",
        "colab_type": "code",
        "colab": {
          "base_uri": "https://localhost:8080/",
          "height": 34
        },
        "outputId": "8cb9032c-85d9-49f8-8bcc-2900faeb82eb"
      },
      "source": [
        "import numpy as np\n",
        "import pandas as pd\n",
        "from sklearn.model_selection import train_test_split\n",
        "all_data=pd.read_csv(\"https://raw.githubusercontent.com/tirthajyoti/Machine-Learning-with-Python/master/Datasets/Classified%20Data\",index_col=0)\n",
        "\n",
        "x1=all_data.loc[:100,['WTT','EQW','FDJ']]\n",
        "x=np.array(x1)\n",
        "y=np.array(all_data.loc[:100,'TARGET CLASS']).reshape(101,1)\n",
        "X_train, X_test, y_train, y_test = train_test_split( x, y, test_size=0.27, random_state=12)\n",
        "X_train.shape\n"
      ],
      "execution_count": 59,
      "outputs": [
        {
          "output_type": "execute_result",
          "data": {
            "text/plain": [
              "(73, 3)"
            ]
          },
          "metadata": {
            "tags": []
          },
          "execution_count": 59
        }
      ]
    }
  ]
}