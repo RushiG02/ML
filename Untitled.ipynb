{
  "nbformat": 4,
  "nbformat_minor": 0,
  "metadata": {
    "colab": {
      "name": "Untitled2.ipynb",
      "provenance": [],
      "collapsed_sections": [],
      "include_colab_link": true
    },
    "kernelspec": {
      "name": "python3",
      "display_name": "Python 3"
    }
  },
  "cells": [
    {
      "cell_type": "markdown",
      "metadata": {
        "id": "view-in-github",
        "colab_type": "text"
      },
      "source": [
        "<a href=\"https://colab.research.google.com/github/RushiG02/ML/blob/master/Untitled.ipynb\" target=\"_parent\"><img src=\"https://colab.research.google.com/assets/colab-badge.svg\" alt=\"Open In Colab\"/></a>"
      ]
    },
    {
      "cell_type": "code",
      "metadata": {
        "id": "GK1ix-DHpI-e",
        "colab_type": "code",
        "outputId": "747f0149-4e85-4b2e-d895-db52b299a1d3",
        "colab": {
          "base_uri": "https://localhost:8080/",
          "height": 34
        }
      },
      "source": [
        "import numpy as np\n",
        "import pandas as pd\n",
        "from sklearn.model_selection import train_test_split\n",
        "from sklearn import linear_model\n",
        "from sklearn.preprocessing import LabelEncoder\n",
        "from sklearn.metrics import r2_score\n",
        "data=pd.read_csv('https://raw.githubusercontent.com/RushiG02/ML/master/1000%20Sales%20Records.csv')\n",
        "lb=LabelEncoder()\n",
        "data['IT']=lb.fit_transform(data['Item Type'])\n",
        "data['OP']=lb.fit_transform(data['Order Priority'])\n",
        "data['C']=lb.fit_transform(data['Country'])\n",
        "x=np.array(data.loc[:,['C','IT','OP','Units Sold','Unit Price','Unit Cost']]).reshape(1000,6)\n",
        "y=np.array(data.loc[:,'Total Profit'])\n",
        "X_train, X_test, y_train, y_test = train_test_split( x, y, test_size=0.5, random_state=12)\n",
        "lreg=linear_model.LinearRegression()\n",
        "lreg.fit(X_train,y_train)\n",
        "y_pd=lreg.predict(X_test)\n",
        "r2_score(y_pd,y_test)"
      ],
      "execution_count": 52,
      "outputs": [
        {
          "output_type": "execute_result",
          "data": {
            "text/plain": [
              "0.7828724317137136"
            ]
          },
          "metadata": {
            "tags": []
          },
          "execution_count": 52
        }
      ]
    },
    {
      "cell_type": "code",
      "metadata": {
        "id": "N8xsKxDT1sIl",
        "colab_type": "code",
        "colab": {}
      },
      "source": [
        ""
      ],
      "execution_count": 0,
      "outputs": []
    }
  ]
}